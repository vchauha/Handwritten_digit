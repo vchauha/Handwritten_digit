{
 "cells": [
  {
   "cell_type": "code",
   "execution_count": 127,
   "metadata": {
    "collapsed": true
   },
   "outputs": [],
   "source": [
    "import torch\n",
    "import torchvision.transforms as transforms\n",
    "import torchvision.datasets as dsets\n",
    "from torch.autograd import Variable\n",
    "import math\n",
    "import numpy"
   ]
  },
  {
   "cell_type": "code",
   "execution_count": null,
   "metadata": {},
   "outputs": [],
   "source": [
    "train_dataset= dsets.MNIST(root='./data', train=True, transform=transforms.ToTensor(), download=True)"
   ]
  },
  {
   "cell_type": "code",
   "execution_count": 104,
   "metadata": {
    "collapsed": true
   },
   "outputs": [],
   "source": [
    "test_dataset= dsets.MNIST(root='./data', train=False, transform=transforms.ToTensor())"
   ]
  },
  {
   "cell_type": "code",
   "execution_count": 105,
   "metadata": {
    "collapsed": true
   },
   "outputs": [],
   "source": [
    "batch_size= 100"
   ]
  },
  {
   "cell_type": "code",
   "execution_count": 106,
   "metadata": {
    "collapsed": true
   },
   "outputs": [],
   "source": [
    "iter= 3000"
   ]
  },
  {
   "cell_type": "code",
   "execution_count": 108,
   "metadata": {},
   "outputs": [
    {
     "data": {
      "text/plain": [
       "5"
      ]
     },
     "execution_count": 108,
     "metadata": {},
     "output_type": "execute_result"
    }
   ],
   "source": [
    "num_epochs= int(n_iters/ (len(train_dataset) / batch_size))\n",
    "num_epochs"
   ]
  },
  {
   "cell_type": "code",
   "execution_count": 110,
   "metadata": {
    "collapsed": true
   },
   "outputs": [],
   "source": [
    "train_loader = torch.utils.data.DataLoader(dataset= train_dataset, batch_size= batch_size, shuffle= True)"
   ]
  },
  {
   "cell_type": "code",
   "execution_count": 111,
   "metadata": {},
   "outputs": [
    {
     "data": {
      "text/plain": [
       "True"
      ]
     },
     "execution_count": 111,
     "metadata": {},
     "output_type": "execute_result"
    }
   ],
   "source": [
    "import collections\n",
    "isinstance(train_loader, collections.Iterable)"
   ]
  },
  {
   "cell_type": "code",
   "execution_count": 150,
   "metadata": {
    "collapsed": true
   },
   "outputs": [],
   "source": [
    "test_loader = torch.utils.data.DataLoader(dataset= test_dataset, batch_size= batch_size, shuffle= True)"
   ]
  },
  {
   "cell_type": "code",
   "execution_count": 113,
   "metadata": {
    "collapsed": true
   },
   "outputs": [],
   "source": [
    "class LogisticModel(nn.Module):\n",
    "    def __init__(self, input_size, output_size):\n",
    "        super(LogisticModel, self).__init__()\n",
    "        self.linear= nn.Linear(input_dim, output_dim)\n",
    "    \n",
    "    def forward(self,x):\n",
    "        out= self.linear(x)\n",
    "        return out"
   ]
  },
  {
   "cell_type": "code",
   "execution_count": 117,
   "metadata": {
    "collapsed": true
   },
   "outputs": [],
   "source": [
    "input_dim= 28*28\n",
    "output_dim= 10\n",
    "\n",
    "model= LogisticModel(input_dim, output_dim)"
   ]
  },
  {
   "cell_type": "code",
   "execution_count": 118,
   "metadata": {
    "collapsed": true
   },
   "outputs": [],
   "source": [
    "criterian= nn.CrossEntropyLoss()"
   ]
  },
  {
   "cell_type": "code",
   "execution_count": 119,
   "metadata": {
    "collapsed": true
   },
   "outputs": [],
   "source": [
    "learnin_rate= 0.01\n",
    "optimizer= torch.optim.SGD(model.parameters(), lr= learnin_rate)"
   ]
  },
  {
   "cell_type": "code",
   "execution_count": null,
   "metadata": {},
   "outputs": [],
   "source": [
    "iter=0\n",
    "\n",
    "for epoch in range(epochs):\n",
    "    for i, (images, labels) in enumerate(train_loader):\n",
    "        images= Variable(images.view(-1, 28*28))\n",
    "        labels= Variable(labels)\n",
    "        \n",
    "        optimizer.zero_grad()\n",
    "        \n",
    "        output= model(images)\n",
    "        \n",
    "        loss= criterian(output, labels)\n",
    "        \n",
    "        loss.backward()\n",
    "        \n",
    "        optimizer.step()\n",
    "        \n",
    "        iter+=1\n",
    "        \n",
    "        if iter % 500 == 0:\n",
    "            # Calculate Accuracy         \n",
    "            correct = 0\n",
    "            total = 0\n",
    "            # Iterate through test dataset\n",
    "            for images, labels in test_loader:\n",
    "                images = Variable(images.view(-1, 28*28))\n",
    "                outputs = model(images)\n",
    "                _, predicted = torch.max(outputs.data, 1)\n",
    "                total += labels.size(0)\n",
    "                correct += (predicted == labels).sum()\n",
    "                \n",
    "            accuracy= 100* correct/total\n",
    "            print('Iteration{}. Loss: {}. Accuracy{}'.format(iter, loss.data[0], accuracy))"
   ]
  },
  {
   "cell_type": "code",
   "execution_count": 2,
   "metadata": {
    "collapsed": true
   },
   "outputs": [],
   "source": [
    "import numpy as np\n",
    "import pandas as pd\n",
    "import torch\n",
    "import torch.nn as nn\n",
    "import torchvision.transforms as transform\n",
    "import torchvision.datasets as dsets\n",
    "from torch.autograd import Variable"
   ]
  },
  {
   "cell_type": "code",
   "execution_count": 87,
   "metadata": {
    "collapsed": true
   },
   "outputs": [],
   "source": [
    "train_dataset= dsets.MNIST(root= './data', train=True, transform=transform.ToTensor(), download=True)\n",
    "test_dataset= dsets.MNIST(root= './data', train=False, transform=transform.ToTensor())\n"
   ]
  },
  {
   "cell_type": "code",
   "execution_count": 88,
   "metadata": {
    "collapsed": true
   },
   "outputs": [],
   "source": [
    "batch_size= 100\n",
    "n_iter= 3000\n",
    "num_epochs= int(n_iter/ (len(train_dataset)/ batch_size)) \n",
    "\n",
    "\n",
    "train_loader = torch.utils.data.DataLoader(dataset= train_dataset, batch_size= batch_size, shuffle= True)\n",
    "test_loader = torch.utils.data.DataLoader(dataset= test_dataset, batch_size= batch_size, shuffle= True)"
   ]
  },
  {
   "cell_type": "code",
   "execution_count": 89,
   "metadata": {},
   "outputs": [
    {
     "data": {
      "text/plain": [
       "True"
      ]
     },
     "execution_count": 89,
     "metadata": {},
     "output_type": "execute_result"
    }
   ],
   "source": [
    "import collections\n",
    "isinstance(train_loader, collections.Iterable)"
   ]
  },
  {
   "cell_type": "code",
   "execution_count": 72,
   "metadata": {
    "collapsed": true
   },
   "outputs": [],
   "source": [
    "class FeedForwardNeuralNetwork(nn.Module):\n",
    "    def __init__(self, input_size, hidden_size, num_classes):\n",
    "        super(FeedForwardNeuralNetwork, self).__init__()\n",
    "        \n",
    "        self.fc1= nn.Linear(input_dim, hidden_dim)\n",
    "        \n",
    "        self.relu= nn.ReLU()\n",
    "        \n",
    "        self.fc2= nn.Linear(hidden_dim, output_dim)\n",
    "        \n",
    "     \n",
    "    def forward(self, x):\n",
    "        out= self.fc1(x)\n",
    "        \n",
    "        out= self.relu(out)\n",
    "        \n",
    "        out= self.fc2(out)\n",
    "        \n",
    "        return out"
   ]
  },
  {
   "cell_type": "code",
   "execution_count": 73,
   "metadata": {
    "collapsed": true
   },
   "outputs": [],
   "source": [
    "input_dim= 28*28\n",
    "hidden_dim= 100\n",
    "output_dim=10\n",
    "\n",
    "model= FeedForwardNeuralNetwork(input_dim, hidden_dim, output_dim)"
   ]
  },
  {
   "cell_type": "code",
   "execution_count": 74,
   "metadata": {
    "collapsed": true
   },
   "outputs": [],
   "source": [
    "criterian= nn.CrossEntropyLoss()\n",
    "\n",
    "learning_rate= 0.01\n",
    "\n",
    "optimizer= torch.optim.SGD(model.parameters(), lr= learning_rate)"
   ]
  },
  {
   "cell_type": "code",
   "execution_count": 76,
   "metadata": {},
   "outputs": [
    {
     "name": "stdout",
     "output_type": "stream",
     "text": [
      "Iteration500. Loss: 0.291904479265213. Accuracy90.78\n",
      "Iteration1000. Loss: 0.3580778241157532. Accuracy91.06\n",
      "Iteration1500. Loss: 0.4355013370513916. Accuracy91.31\n",
      "Iteration2000. Loss: 0.3069045841693878. Accuracy91.52\n",
      "Iteration2500. Loss: 0.40861523151397705. Accuracy91.85\n",
      "Iteration3000. Loss: 0.33692073822021484. Accuracy92.03\n"
     ]
    }
   ],
   "source": [
    "iter=0\n",
    "\n",
    "for epoch in range(num_epochs):\n",
    "    for i, (images, labels) in enumerate(train_loader):\n",
    "        images= Variable(images.view(-1, 28*28))\n",
    "        labels= Variable(labels)\n",
    "        \n",
    "        optimizer.zero_grad()\n",
    "        \n",
    "        output= model(images)\n",
    "        \n",
    "        loss= criterian(output, labels)\n",
    "        \n",
    "        loss.backward()\n",
    "        \n",
    "        optimizer.step()\n",
    "        \n",
    "        iter+=1\n",
    "        \n",
    "        if iter % 500 == 0:\n",
    "            # Calculate Accuracy         \n",
    "            correct = 0\n",
    "            total = 0\n",
    "            # Iterate through test dataset\n",
    "            for images, labels in test_loader:\n",
    "                images = Variable(images.view(-1, 28*28))\n",
    "                outputs = model(images)\n",
    "                _, predicted = torch.max(outputs.data, 1)\n",
    "                total += labels.size(0)\n",
    "                correct += (predicted == labels).sum()\n",
    "                \n",
    "            accuracy= 100* correct/total\n",
    "            print('Iteration{}. Loss: {}. Accuracy{}'.format(iter, loss.data[0], accuracy))     "
   ]
  },
  {
   "cell_type": "code",
   "execution_count": 3,
   "metadata": {
    "collapsed": true
   },
   "outputs": [],
   "source": [
    "class CNN(nn.Module):\n",
    "    def __init__(self):\n",
    "        super(CNN, self).__init__()\n",
    "        \n",
    "        self.cnn1= nn.Conv2d(in_channels=1, out_channels= 32, kernel_size=3)\n",
    "        self.relu1= nn.ReLU()\n",
    "        \n",
    "        self.Maxpool1= nn.MaxPool2d(kernel_size=2)\n",
    "        \n",
    "        self.cnn2= nn.Conv2d(in_channels=32, out_channels= 64, kernel_size=2)\n",
    "        self.relu2= nn.ReLU()\n",
    "        \n",
    "        self.Maxpool2= nn.MaxPool2d(kernel_size=2)\n",
    "        \n",
    "        self.fc1= nn.Linear(32*3*3, 3)\n",
    "        \n",
    "    def forward(self, x):\n",
    "        out= self.cnn1(x)\n",
    "        out= self.relu1(out)\n",
    "        \n",
    "        out= self.Maxpool1(out)\n",
    "        \n",
    "        out= self.cnn2(out)\n",
    "        out= self.relu2(out)\n",
    "        \n",
    "        out= self.Maxpool2(out)\n",
    "        \n",
    "        out= out.view(out.size(0), -1)\n",
    "        \n",
    "        out= self.fc1(out)\n",
    "        \n",
    "        return out\n",
    "    \n",
    "        "
   ]
  },
  {
   "cell_type": "code",
   "execution_count": 4,
   "metadata": {
    "collapsed": true
   },
   "outputs": [],
   "source": [
    "model= CNN()\n",
    "\n",
    "criterian= nn.CrossEntropyLoss()\n",
    "\n",
    "learning_rate= 0.01\n",
    "\n",
    "optimizer= torch.optim.SGD(model.parameters(), lr= learning_rate)\n",
    "\n"
   ]
  },
  {
   "cell_type": "code",
   "execution_count": 105,
   "metadata": {},
   "outputs": [
    {
     "name": "stdout",
     "output_type": "stream",
     "text": [
      "Iteration500. Loss: 0.044685639441013336. Accuracy97.23\n",
      "Iteration1000. Loss: 0.055902548134326935. Accuracy97.35\n",
      "Iteration1500. Loss: 0.1249755471944809. Accuracy97.64\n",
      "Iteration2000. Loss: 0.046556636691093445. Accuracy97.78\n",
      "Iteration2500. Loss: 0.055934298783540726. Accuracy97.76\n",
      "Iteration3000. Loss: 0.01095388550311327. Accuracy98.03\n"
     ]
    }
   ],
   "source": [
    "iter=0\n",
    "\n",
    "for epoch in range(num_epochs):\n",
    "    for i, (images, labels) in enumerate(train_loader):\n",
    "        images= Variable(images)\n",
    "                         \n",
    "        labels= Variable(labels)\n",
    "        \n",
    "        optimizer.zero_grad()\n",
    "        \n",
    "        output= model(images)\n",
    "        \n",
    "        loss= criterian(output, labels)\n",
    "        \n",
    "        loss.backward()\n",
    "        \n",
    "        optimizer.step()\n",
    "        \n",
    "        iter+=1\n",
    "        \n",
    "        if iter % 500 == 0:\n",
    "            # Calculate Accuracy         \n",
    "            correct = 0\n",
    "            total = 0\n",
    "            # Iterate through test dataset\n",
    "            for images, labels in test_loader:\n",
    "                images = Variable(images)\n",
    "                outputs = model(images)\n",
    "                _, predicted = torch.max(outputs.data, 1)\n",
    "                total += labels.size(0)\n",
    "                correct += (predicted == labels).sum()\n",
    "                \n",
    "            accuracy= 100* correct/total\n",
    "            print('Iteration{}. Loss: {}. Accuracy{}'.format(iter, loss.data[0], accuracy))     "
   ]
  }
 ],
 "metadata": {
  "kernelspec": {
   "display_name": "Python 3",
   "language": "python",
   "name": "python3"
  },
  "language_info": {
   "codemirror_mode": {
    "name": "ipython",
    "version": 3
   },
   "file_extension": ".py",
   "mimetype": "text/x-python",
   "name": "python",
   "nbconvert_exporter": "python",
   "pygments_lexer": "ipython3",
   "version": "3.6.2"
  }
 },
 "nbformat": 4,
 "nbformat_minor": 2
}
